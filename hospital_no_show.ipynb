{
 "cells": [
  {
   "cell_type": "code",
   "execution_count": 33,
   "metadata": {},
   "outputs": [],
   "source": [
    "import pandas as pd"
   ]
  },
  {
   "cell_type": "code",
   "execution_count": 34,
   "metadata": {},
   "outputs": [
    {
     "data": {
      "text/html": [
       "<div>\n",
       "<style scoped>\n",
       "    .dataframe tbody tr th:only-of-type {\n",
       "        vertical-align: middle;\n",
       "    }\n",
       "\n",
       "    .dataframe tbody tr th {\n",
       "        vertical-align: top;\n",
       "    }\n",
       "\n",
       "    .dataframe thead th {\n",
       "        text-align: right;\n",
       "    }\n",
       "</style>\n",
       "<table border=\"1\" class=\"dataframe\">\n",
       "  <thead>\n",
       "    <tr style=\"text-align: right;\">\n",
       "      <th></th>\n",
       "      <th>specialty</th>\n",
       "      <th>appointment_time</th>\n",
       "      <th>gender</th>\n",
       "      <th>appointment_date</th>\n",
       "      <th>no_show</th>\n",
       "      <th>no_show_reason</th>\n",
       "      <th>disability</th>\n",
       "      <th>date_of_birth</th>\n",
       "      <th>entry_service_date</th>\n",
       "      <th>city</th>\n",
       "      <th>...</th>\n",
       "      <th>over_60_years_old</th>\n",
       "      <th>patient_needs_companion</th>\n",
       "      <th>average_temp_day</th>\n",
       "      <th>average_rain_day</th>\n",
       "      <th>max_temp_day</th>\n",
       "      <th>max_rain_day</th>\n",
       "      <th>rainy_day_before</th>\n",
       "      <th>storm_day_before</th>\n",
       "      <th>rain_intensity</th>\n",
       "      <th>heat_intensity</th>\n",
       "    </tr>\n",
       "  </thead>\n",
       "  <tbody>\n",
       "    <tr>\n",
       "      <th>0</th>\n",
       "      <td>physiotherapy</td>\n",
       "      <td>13:20</td>\n",
       "      <td>M</td>\n",
       "      <td>09/09/2021</td>\n",
       "      <td>yes</td>\n",
       "      <td>surto</td>\n",
       "      <td>NaN</td>\n",
       "      <td>NaN</td>\n",
       "      <td>NaN</td>\n",
       "      <td>NaN</td>\n",
       "      <td>...</td>\n",
       "      <td>0</td>\n",
       "      <td>0</td>\n",
       "      <td>20.75</td>\n",
       "      <td>0.01</td>\n",
       "      <td>23.7</td>\n",
       "      <td>0.2</td>\n",
       "      <td>1</td>\n",
       "      <td>1</td>\n",
       "      <td>no_rain</td>\n",
       "      <td>mild</td>\n",
       "    </tr>\n",
       "    <tr>\n",
       "      <th>1</th>\n",
       "      <td>psychotherapy</td>\n",
       "      <td>13:20</td>\n",
       "      <td>M</td>\n",
       "      <td>09/09/2021</td>\n",
       "      <td>no</td>\n",
       "      <td>NaN</td>\n",
       "      <td>NaN</td>\n",
       "      <td>NaN</td>\n",
       "      <td>NaN</td>\n",
       "      <td>NaN</td>\n",
       "      <td>...</td>\n",
       "      <td>0</td>\n",
       "      <td>0</td>\n",
       "      <td>20.75</td>\n",
       "      <td>0.01</td>\n",
       "      <td>23.7</td>\n",
       "      <td>0.2</td>\n",
       "      <td>1</td>\n",
       "      <td>1</td>\n",
       "      <td>no_rain</td>\n",
       "      <td>mild</td>\n",
       "    </tr>\n",
       "    <tr>\n",
       "      <th>2</th>\n",
       "      <td>speech therapy</td>\n",
       "      <td>13:20</td>\n",
       "      <td>F</td>\n",
       "      <td>09/09/2021</td>\n",
       "      <td>no</td>\n",
       "      <td>NaN</td>\n",
       "      <td>NaN</td>\n",
       "      <td>NaN</td>\n",
       "      <td>NaN</td>\n",
       "      <td>NaN</td>\n",
       "      <td>...</td>\n",
       "      <td>0</td>\n",
       "      <td>0</td>\n",
       "      <td>20.75</td>\n",
       "      <td>0.01</td>\n",
       "      <td>23.7</td>\n",
       "      <td>0.2</td>\n",
       "      <td>1</td>\n",
       "      <td>1</td>\n",
       "      <td>no_rain</td>\n",
       "      <td>mild</td>\n",
       "    </tr>\n",
       "    <tr>\n",
       "      <th>3</th>\n",
       "      <td>physiotherapy</td>\n",
       "      <td>13:20</td>\n",
       "      <td>F</td>\n",
       "      <td>09/09/2021</td>\n",
       "      <td>no</td>\n",
       "      <td>NaN</td>\n",
       "      <td>NaN</td>\n",
       "      <td>NaN</td>\n",
       "      <td>NaN</td>\n",
       "      <td>NaN</td>\n",
       "      <td>...</td>\n",
       "      <td>0</td>\n",
       "      <td>0</td>\n",
       "      <td>20.75</td>\n",
       "      <td>0.01</td>\n",
       "      <td>23.7</td>\n",
       "      <td>0.2</td>\n",
       "      <td>1</td>\n",
       "      <td>1</td>\n",
       "      <td>no_rain</td>\n",
       "      <td>mild</td>\n",
       "    </tr>\n",
       "    <tr>\n",
       "      <th>4</th>\n",
       "      <td>physiotherapy</td>\n",
       "      <td>14:00</td>\n",
       "      <td>M</td>\n",
       "      <td>09/09/2021</td>\n",
       "      <td>no</td>\n",
       "      <td>NaN</td>\n",
       "      <td>motor</td>\n",
       "      <td>10/10/1954</td>\n",
       "      <td>5/2/2020</td>\n",
       "      <td>B. CAMBORIU</td>\n",
       "      <td>...</td>\n",
       "      <td>1</td>\n",
       "      <td>1</td>\n",
       "      <td>20.75</td>\n",
       "      <td>0.01</td>\n",
       "      <td>23.7</td>\n",
       "      <td>0.2</td>\n",
       "      <td>1</td>\n",
       "      <td>1</td>\n",
       "      <td>no_rain</td>\n",
       "      <td>mild</td>\n",
       "    </tr>\n",
       "  </tbody>\n",
       "</table>\n",
       "<p>5 rows × 26 columns</p>\n",
       "</div>"
      ],
      "text/plain": [
       "        specialty appointment_time gender appointment_date no_show  \\\n",
       "0   physiotherapy            13:20      M       09/09/2021     yes   \n",
       "1   psychotherapy            13:20      M       09/09/2021      no   \n",
       "2  speech therapy            13:20      F       09/09/2021      no   \n",
       "3   physiotherapy            13:20      F       09/09/2021      no   \n",
       "4   physiotherapy            14:00      M       09/09/2021      no   \n",
       "\n",
       "  no_show_reason disability date_of_birth entry_service_date         city  \\\n",
       "0          surto        NaN           NaN                NaN          NaN   \n",
       "1            NaN        NaN           NaN                NaN          NaN   \n",
       "2            NaN        NaN           NaN                NaN          NaN   \n",
       "3            NaN        NaN           NaN                NaN          NaN   \n",
       "4            NaN      motor    10/10/1954           5/2/2020  B. CAMBORIU   \n",
       "\n",
       "   ... over_60_years_old patient_needs_companion  average_temp_day  \\\n",
       "0  ...                 0                       0             20.75   \n",
       "1  ...                 0                       0             20.75   \n",
       "2  ...                 0                       0             20.75   \n",
       "3  ...                 0                       0             20.75   \n",
       "4  ...                 1                       1             20.75   \n",
       "\n",
       "  average_rain_day  max_temp_day  max_rain_day  rainy_day_before  \\\n",
       "0             0.01          23.7           0.2                 1   \n",
       "1             0.01          23.7           0.2                 1   \n",
       "2             0.01          23.7           0.2                 1   \n",
       "3             0.01          23.7           0.2                 1   \n",
       "4             0.01          23.7           0.2                 1   \n",
       "\n",
       "   storm_day_before  rain_intensity  heat_intensity  \n",
       "0                 1         no_rain            mild  \n",
       "1                 1         no_rain            mild  \n",
       "2                 1         no_rain            mild  \n",
       "3                 1         no_rain            mild  \n",
       "4                 1         no_rain            mild  \n",
       "\n",
       "[5 rows x 26 columns]"
      ]
     },
     "execution_count": 34,
     "metadata": {},
     "output_type": "execute_result"
    }
   ],
   "source": [
    "# data is from https://data.mendeley.com/datasets/wm6w2fvkfj/1\n",
    "df = pd.read_csv('medical-appointments-no-show-en.csv',index_col=None)\n",
    "df.head()"
   ]
  },
  {
   "cell_type": "code",
   "execution_count": 35,
   "metadata": {},
   "outputs": [
    {
     "data": {
      "text/plain": [
       "(49593, 26)"
      ]
     },
     "execution_count": 35,
     "metadata": {},
     "output_type": "execute_result"
    }
   ],
   "source": [
    "df.shape"
   ]
  },
  {
   "cell_type": "code",
   "execution_count": 36,
   "metadata": {},
   "outputs": [
    {
     "data": {
      "text/plain": [
       "specialty                   7454\n",
       "appointment_time               0\n",
       "gender                         0\n",
       "appointment_date               0\n",
       "no_show                        0\n",
       "no_show_reason             47856\n",
       "disability                  5137\n",
       "date_of_birth              10321\n",
       "entry_service_date          5155\n",
       "city                        5181\n",
       "icd                        38876\n",
       "appointment_month              0\n",
       "appointment_year               0\n",
       "appointment_shift              0\n",
       "age                        10350\n",
       "under_12_years_old             0\n",
       "over_60_years_old              0\n",
       "patient_needs_companion        0\n",
       "average_temp_day            1016\n",
       "average_rain_day            1016\n",
       "max_temp_day                1016\n",
       "max_rain_day                1016\n",
       "rainy_day_before               0\n",
       "storm_day_before               0\n",
       "rain_intensity                 0\n",
       "heat_intensity                 0\n",
       "dtype: int64"
      ]
     },
     "execution_count": 36,
     "metadata": {},
     "output_type": "execute_result"
    }
   ],
   "source": [
    "df.isna().sum()"
   ]
  },
  {
   "cell_type": "code",
   "execution_count": 37,
   "metadata": {},
   "outputs": [],
   "source": [
    "df = df.drop(columns= 'no_show_reason')"
   ]
  },
  {
   "cell_type": "code",
   "execution_count": 38,
   "metadata": {},
   "outputs": [],
   "source": [
    "df = df.dropna(subset = ['specialty','disability','date_of_birth','entry_service_date','city']).reset_index(drop= True)"
   ]
  },
  {
   "cell_type": "code",
   "execution_count": 39,
   "metadata": {},
   "outputs": [],
   "source": [
    "df['has_icd'] = pd.notna(df['icd'])"
   ]
  },
  {
   "cell_type": "code",
   "execution_count": 40,
   "metadata": {},
   "outputs": [
    {
     "data": {
      "text/plain": [
       "False    26681\n",
       "True      8043\n",
       "Name: has_icd, dtype: int64"
      ]
     },
     "execution_count": 40,
     "metadata": {},
     "output_type": "execute_result"
    }
   ],
   "source": [
    "df['has_icd'].value_counts()\n"
   ]
  },
  {
   "cell_type": "code",
   "execution_count": 41,
   "metadata": {},
   "outputs": [],
   "source": [
    "# df.isna().sum()\n",
    "\n",
    "df = df.drop('icd',axis=1)\n"
   ]
  },
  {
   "cell_type": "code",
   "execution_count": 42,
   "metadata": {},
   "outputs": [],
   "source": [
    "# df.isna().sum()\n",
    "df = df.dropna(subset=['average_temp_day','age','average_rain_day','max_temp_day',\n",
    "                       'max_rain_day'],axis=0).reset_index(drop = True)"
   ]
  },
  {
   "cell_type": "code",
   "execution_count": 43,
   "metadata": {},
   "outputs": [
    {
     "data": {
      "text/html": [
       "<div>\n",
       "<style scoped>\n",
       "    .dataframe tbody tr th:only-of-type {\n",
       "        vertical-align: middle;\n",
       "    }\n",
       "\n",
       "    .dataframe tbody tr th {\n",
       "        vertical-align: top;\n",
       "    }\n",
       "\n",
       "    .dataframe thead th {\n",
       "        text-align: right;\n",
       "    }\n",
       "</style>\n",
       "<table border=\"1\" class=\"dataframe\">\n",
       "  <thead>\n",
       "    <tr style=\"text-align: right;\">\n",
       "      <th></th>\n",
       "      <th>specialty</th>\n",
       "      <th>appointment_time</th>\n",
       "      <th>gender</th>\n",
       "      <th>appointment_date</th>\n",
       "      <th>no_show</th>\n",
       "      <th>disability</th>\n",
       "      <th>date_of_birth</th>\n",
       "      <th>entry_service_date</th>\n",
       "      <th>city</th>\n",
       "      <th>appointment_month</th>\n",
       "      <th>...</th>\n",
       "      <th>patient_needs_companion</th>\n",
       "      <th>average_temp_day</th>\n",
       "      <th>average_rain_day</th>\n",
       "      <th>max_temp_day</th>\n",
       "      <th>max_rain_day</th>\n",
       "      <th>rainy_day_before</th>\n",
       "      <th>storm_day_before</th>\n",
       "      <th>rain_intensity</th>\n",
       "      <th>heat_intensity</th>\n",
       "      <th>has_icd</th>\n",
       "    </tr>\n",
       "  </thead>\n",
       "  <tbody>\n",
       "    <tr>\n",
       "      <th>34602</th>\n",
       "      <td>occupational therapy</td>\n",
       "      <td>17:00</td>\n",
       "      <td>M</td>\n",
       "      <td>01/03/2021</td>\n",
       "      <td>no</td>\n",
       "      <td>motor</td>\n",
       "      <td>29/6/1999</td>\n",
       "      <td>28/9/2020</td>\n",
       "      <td>ITAJAÍ</td>\n",
       "      <td>mar</td>\n",
       "      <td>...</td>\n",
       "      <td>0</td>\n",
       "      <td>22.55</td>\n",
       "      <td>4.22</td>\n",
       "      <td>24.6</td>\n",
       "      <td>32.8</td>\n",
       "      <td>1</td>\n",
       "      <td>1</td>\n",
       "      <td>heavy</td>\n",
       "      <td>mild</td>\n",
       "      <td>True</td>\n",
       "    </tr>\n",
       "    <tr>\n",
       "      <th>34603</th>\n",
       "      <td>speech therapy</td>\n",
       "      <td>17:00</td>\n",
       "      <td>F</td>\n",
       "      <td>01/03/2021</td>\n",
       "      <td>no</td>\n",
       "      <td>motor</td>\n",
       "      <td>15/7/1954</td>\n",
       "      <td>14/8/2019</td>\n",
       "      <td>ITAJAÍ</td>\n",
       "      <td>mar</td>\n",
       "      <td>...</td>\n",
       "      <td>1</td>\n",
       "      <td>22.55</td>\n",
       "      <td>4.22</td>\n",
       "      <td>24.6</td>\n",
       "      <td>32.8</td>\n",
       "      <td>1</td>\n",
       "      <td>1</td>\n",
       "      <td>heavy</td>\n",
       "      <td>mild</td>\n",
       "      <td>False</td>\n",
       "    </tr>\n",
       "    <tr>\n",
       "      <th>34604</th>\n",
       "      <td>physiotherapy</td>\n",
       "      <td>17:40</td>\n",
       "      <td>F</td>\n",
       "      <td>01/03/2021</td>\n",
       "      <td>no</td>\n",
       "      <td>motor</td>\n",
       "      <td>15/7/1954</td>\n",
       "      <td>14/8/2019</td>\n",
       "      <td>ITAJAÍ</td>\n",
       "      <td>mar</td>\n",
       "      <td>...</td>\n",
       "      <td>1</td>\n",
       "      <td>22.55</td>\n",
       "      <td>4.22</td>\n",
       "      <td>24.6</td>\n",
       "      <td>32.8</td>\n",
       "      <td>1</td>\n",
       "      <td>1</td>\n",
       "      <td>heavy</td>\n",
       "      <td>mild</td>\n",
       "      <td>False</td>\n",
       "    </tr>\n",
       "    <tr>\n",
       "      <th>34605</th>\n",
       "      <td>occupational therapy</td>\n",
       "      <td>17:40</td>\n",
       "      <td>F</td>\n",
       "      <td>01/03/2021</td>\n",
       "      <td>no</td>\n",
       "      <td>intellectual</td>\n",
       "      <td>11/7/2017</td>\n",
       "      <td>19/8/2019</td>\n",
       "      <td>BALN. PIÇARRAS</td>\n",
       "      <td>mar</td>\n",
       "      <td>...</td>\n",
       "      <td>1</td>\n",
       "      <td>22.55</td>\n",
       "      <td>4.22</td>\n",
       "      <td>24.6</td>\n",
       "      <td>32.8</td>\n",
       "      <td>1</td>\n",
       "      <td>1</td>\n",
       "      <td>heavy</td>\n",
       "      <td>mild</td>\n",
       "      <td>False</td>\n",
       "    </tr>\n",
       "    <tr>\n",
       "      <th>34606</th>\n",
       "      <td>psychotherapy</td>\n",
       "      <td>17:40</td>\n",
       "      <td>M</td>\n",
       "      <td>01/03/2021</td>\n",
       "      <td>no</td>\n",
       "      <td>motor</td>\n",
       "      <td>29/6/1999</td>\n",
       "      <td>28/9/2020</td>\n",
       "      <td>ITAJAÍ</td>\n",
       "      <td>mar</td>\n",
       "      <td>...</td>\n",
       "      <td>0</td>\n",
       "      <td>22.55</td>\n",
       "      <td>4.22</td>\n",
       "      <td>24.6</td>\n",
       "      <td>32.8</td>\n",
       "      <td>1</td>\n",
       "      <td>1</td>\n",
       "      <td>heavy</td>\n",
       "      <td>mild</td>\n",
       "      <td>True</td>\n",
       "    </tr>\n",
       "  </tbody>\n",
       "</table>\n",
       "<p>5 rows × 25 columns</p>\n",
       "</div>"
      ],
      "text/plain": [
       "                  specialty appointment_time gender appointment_date no_show  \\\n",
       "34602  occupational therapy            17:00      M       01/03/2021      no   \n",
       "34603        speech therapy            17:00      F       01/03/2021      no   \n",
       "34604         physiotherapy            17:40      F       01/03/2021      no   \n",
       "34605  occupational therapy            17:40      F       01/03/2021      no   \n",
       "34606         psychotherapy            17:40      M       01/03/2021      no   \n",
       "\n",
       "         disability date_of_birth entry_service_date            city  \\\n",
       "34602         motor     29/6/1999          28/9/2020          ITAJAÍ   \n",
       "34603         motor     15/7/1954          14/8/2019          ITAJAÍ   \n",
       "34604         motor     15/7/1954          14/8/2019          ITAJAÍ   \n",
       "34605  intellectual     11/7/2017          19/8/2019  BALN. PIÇARRAS   \n",
       "34606         motor     29/6/1999          28/9/2020          ITAJAÍ   \n",
       "\n",
       "      appointment_month  ...  patient_needs_companion average_temp_day  \\\n",
       "34602               mar  ...                        0            22.55   \n",
       "34603               mar  ...                        1            22.55   \n",
       "34604               mar  ...                        1            22.55   \n",
       "34605               mar  ...                        1            22.55   \n",
       "34606               mar  ...                        0            22.55   \n",
       "\n",
       "       average_rain_day  max_temp_day  max_rain_day  rainy_day_before  \\\n",
       "34602              4.22          24.6          32.8                 1   \n",
       "34603              4.22          24.6          32.8                 1   \n",
       "34604              4.22          24.6          32.8                 1   \n",
       "34605              4.22          24.6          32.8                 1   \n",
       "34606              4.22          24.6          32.8                 1   \n",
       "\n",
       "       storm_day_before  rain_intensity  heat_intensity  has_icd  \n",
       "34602                 1           heavy            mild     True  \n",
       "34603                 1           heavy            mild    False  \n",
       "34604                 1           heavy            mild    False  \n",
       "34605                 1           heavy            mild    False  \n",
       "34606                 1           heavy            mild     True  \n",
       "\n",
       "[5 rows x 25 columns]"
      ]
     },
     "execution_count": 43,
     "metadata": {},
     "output_type": "execute_result"
    }
   ],
   "source": [
    "df.tail()"
   ]
  },
  {
   "cell_type": "code",
   "execution_count": 51,
   "metadata": {},
   "outputs": [
    {
     "name": "stdout",
     "output_type": "stream",
     "text": [
      "<class 'pandas.core.frame.DataFrame'>\n",
      "RangeIndex: 34607 entries, 0 to 34606\n",
      "Data columns (total 25 columns):\n",
      " #   Column                   Non-Null Count  Dtype         \n",
      "---  ------                   --------------  -----         \n",
      " 0   specialty                34607 non-null  object        \n",
      " 1   appointment_time         34607 non-null  object        \n",
      " 2   gender                   34607 non-null  object        \n",
      " 3   appointment_date         34607 non-null  datetime64[ns]\n",
      " 4   no_show                  34607 non-null  object        \n",
      " 5   disability               34607 non-null  object        \n",
      " 6   date_of_birth            34607 non-null  datetime64[ns]\n",
      " 7   entry_service_date       34607 non-null  object        \n",
      " 8   city                     34607 non-null  object        \n",
      " 9   appointment_month        34607 non-null  object        \n",
      " 10  appointment_year         34607 non-null  int64         \n",
      " 11  appointment_shift        34607 non-null  object        \n",
      " 12  age                      34607 non-null  int32         \n",
      " 13  under_12_years_old       34607 non-null  int64         \n",
      " 14  over_60_years_old        34607 non-null  int64         \n",
      " 15  patient_needs_companion  34607 non-null  int64         \n",
      " 16  average_temp_day         34607 non-null  float64       \n",
      " 17  average_rain_day         34607 non-null  float64       \n",
      " 18  max_temp_day             34607 non-null  float64       \n",
      " 19  max_rain_day             34607 non-null  float64       \n",
      " 20  rainy_day_before         34607 non-null  int64         \n",
      " 21  storm_day_before         34607 non-null  int64         \n",
      " 22  rain_intensity           34607 non-null  object        \n",
      " 23  heat_intensity           34607 non-null  object        \n",
      " 24  has_icd                  34607 non-null  bool          \n",
      "dtypes: bool(1), datetime64[ns](2), float64(4), int32(1), int64(6), object(11)\n",
      "memory usage: 6.2+ MB\n"
     ]
    }
   ],
   "source": [
    "df.info()"
   ]
  },
  {
   "cell_type": "code",
   "execution_count": 49,
   "metadata": {},
   "outputs": [],
   "source": [
    "df['appointment_date'] = pd.to_datetime(df['appointment_date'],format='%d/%m/%Y')\n",
    "df['date_of_birth'] = pd.to_datetime(df['date_of_birth'],format='%d/%m/%Y')\n",
    "df['age'] = df['age'].astype(int)"
   ]
  },
  {
   "cell_type": "code",
   "execution_count": null,
   "metadata": {},
   "outputs": [
    {
     "data": {
      "text/plain": [
       "0"
      ]
     },
     "execution_count": 55,
     "metadata": {},
     "output_type": "execute_result"
    }
   ],
   "source": [
    "# df['date_of_birth']\n",
    "# df.duplicated().sum()\n",
    "df = df.drop_duplicates()"
   ]
  },
  {
   "cell_type": "code",
   "execution_count": null,
   "metadata": {},
   "outputs": [
    {
     "data": {
      "text/plain": [
       "Index(['specialty', 'appointment_time', 'gender', 'appointment_date',\n",
       "       'no_show', 'disability', 'date_of_birth', 'entry_service_date', 'city',\n",
       "       'appointment_month', 'appointment_year', 'appointment_shift', 'age',\n",
       "       'under_12_years_old', 'over_60_years_old', 'patient_needs_companion',\n",
       "       'average_temp_day', 'average_rain_day', 'max_temp_day', 'max_rain_day',\n",
       "       'rainy_day_before', 'storm_day_before', 'rain_intensity',\n",
       "       'heat_intensity', 'has_icd'],\n",
       "      dtype='object')"
      ]
     },
     "execution_count": 56,
     "metadata": {},
     "output_type": "execute_result"
    }
   ],
   "source": [
    "df.columns"
   ]
  },
  {
   "cell_type": "code",
   "execution_count": 63,
   "metadata": {},
   "outputs": [
    {
     "data": {
      "text/plain": [
       "Index(['appointment_date', 'date_of_birth'], dtype='object')"
      ]
     },
     "execution_count": 63,
     "metadata": {},
     "output_type": "execute_result"
    }
   ],
   "source": [
    "cat_cols = df.select_dtypes(include = ['object']).columns\n",
    "cat_cols\n",
    "num_cols = df.select_dtypes(include = ['float','int','bool']).columns\n",
    "num_cols\n",
    "date_cols = df.select_dtypes(include = ['datetime']).columns\n",
    "len(cat_cols)+len(num_cols)\n",
    "date_cols"
   ]
  },
  {
   "cell_type": "code",
   "execution_count": null,
   "metadata": {},
   "outputs": [
    {
     "name": "stdout",
     "output_type": "stream",
     "text": [
      "specialty: 8\n",
      "appointment_time: 69\n",
      "gender: 3\n",
      "no_show: 2\n",
      "disability: 2\n",
      "entry_service_date: 309\n",
      "city: 11\n",
      "appointment_month: 12\n",
      "appointment_shift: 2\n",
      "rain_intensity: 4\n",
      "heat_intensity: 5\n"
     ]
    }
   ],
   "source": [
    "for cols in cat_cols:\n",
    "  print(f'{cols}: {df[cols].nunique()}')"
   ]
  },
  {
   "cell_type": "code",
   "execution_count": 70,
   "metadata": {},
   "outputs": [
    {
     "name": "stdout",
     "output_type": "stream",
     "text": [
      "appointment_year: 6\n",
      "age: 87\n",
      "under_12_years_old: 2\n",
      "over_60_years_old: 2\n",
      "patient_needs_companion: 2\n",
      "average_temp_day: 658\n",
      "average_rain_day: 128\n",
      "max_temp_day: 183\n",
      "max_rain_day: 81\n",
      "rainy_day_before: 1\n",
      "storm_day_before: 1\n",
      "has_icd: 2\n"
     ]
    }
   ],
   "source": [
    "for cols in num_cols:\n",
    "  print(f'{cols}: {df[cols].nunique()}')"
   ]
  },
  {
   "cell_type": "code",
   "execution_count": null,
   "metadata": {},
   "outputs": [],
   "source": [
    "# df['rainy_day_before'].value_counts()\n",
    "# df['storm_day_before'].value_counts()\n",
    "\n",
    "df = df.drop(columns = ['rainy_day_before','storm_day_before'])\n"
   ]
  },
  {
   "cell_type": "code",
   "execution_count": 79,
   "metadata": {},
   "outputs": [],
   "source": [
    "df.to_csv('cleaned_dataset.csv')"
   ]
  }
 ],
 "metadata": {
  "kernelspec": {
   "display_name": "base",
   "language": "python",
   "name": "python3"
  },
  "language_info": {
   "codemirror_mode": {
    "name": "ipython",
    "version": 3
   },
   "file_extension": ".py",
   "mimetype": "text/x-python",
   "name": "python",
   "nbconvert_exporter": "python",
   "pygments_lexer": "ipython3",
   "version": "3.9.13"
  }
 },
 "nbformat": 4,
 "nbformat_minor": 2
}
